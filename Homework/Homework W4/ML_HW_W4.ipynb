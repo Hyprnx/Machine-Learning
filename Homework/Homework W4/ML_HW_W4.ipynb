{
  "nbformat": 4,
  "nbformat_minor": 0,
  "metadata": {
    "colab": {
      "name": "ML HW W3.ipynb",
      "provenance": [],
      "collapsed_sections": []
    },
    "kernelspec": {
      "name": "python3",
      "display_name": "Python 3"
    },
    "language_info": {
      "name": "python"
    }
  },
  "cells": [
    {
      "cell_type": "markdown",
      "metadata": {
        "id": "XkoTser5Tq9w"
      },
      "source": [
        "Using numpy, find  linear regression model for house's price predicting problems, using this https://github.com/nttuan8/DL_Tutorial/blob/master/L1/data_linear.csv\n",
        "\n",
        "Plot prediction model (straight line) and data (point - scatter).\n",
        "\n",
        "Predict price of houses that have the area of 50, 100, 150 accordingly."
      ]
    },
    {
      "cell_type": "markdown",
      "metadata": {
        "id": "CHldSPIIuFe7"
      },
      "source": [
        "# Import libraries"
      ]
    },
    {
      "cell_type": "code",
      "metadata": {
        "id": "lMIEPfoQTWzh"
      },
      "source": [
        "import pandas as pd\n",
        "import numpy as np\n",
        "import matplotlib.pyplot as plt"
      ],
      "execution_count": null,
      "outputs": []
    },
    {
      "cell_type": "markdown",
      "metadata": {
        "id": "qhECH0AFuIig"
      },
      "source": [
        "# Read data"
      ]
    },
    {
      "cell_type": "code",
      "metadata": {
        "colab": {
          "base_uri": "https://localhost:8080/",
          "height": 989
        },
        "id": "wKyyTAdkTYZO",
        "outputId": "7904a92b-400a-419c-946b-e50337f076ed"
      },
      "source": [
        "data = pd.read_csv('https://raw.githubusercontent.com/nttuan8/DL_Tutorial/master/L1/data_linear.csv')\n",
        "data"
      ],
      "execution_count": null,
      "outputs": [
        {
          "output_type": "execute_result",
          "data": {
            "text/html": [
              "<div>\n",
              "<style scoped>\n",
              "    .dataframe tbody tr th:only-of-type {\n",
              "        vertical-align: middle;\n",
              "    }\n",
              "\n",
              "    .dataframe tbody tr th {\n",
              "        vertical-align: top;\n",
              "    }\n",
              "\n",
              "    .dataframe thead th {\n",
              "        text-align: right;\n",
              "    }\n",
              "</style>\n",
              "<table border=\"1\" class=\"dataframe\">\n",
              "  <thead>\n",
              "    <tr style=\"text-align: right;\">\n",
              "      <th></th>\n",
              "      <th>Diện tích</th>\n",
              "      <th>Giá</th>\n",
              "    </tr>\n",
              "  </thead>\n",
              "  <tbody>\n",
              "    <tr>\n",
              "      <th>0</th>\n",
              "      <td>30.0000</td>\n",
              "      <td>448.524</td>\n",
              "    </tr>\n",
              "    <tr>\n",
              "      <th>1</th>\n",
              "      <td>32.4138</td>\n",
              "      <td>509.248</td>\n",
              "    </tr>\n",
              "    <tr>\n",
              "      <th>2</th>\n",
              "      <td>34.8276</td>\n",
              "      <td>535.104</td>\n",
              "    </tr>\n",
              "    <tr>\n",
              "      <th>3</th>\n",
              "      <td>37.2414</td>\n",
              "      <td>551.432</td>\n",
              "    </tr>\n",
              "    <tr>\n",
              "      <th>4</th>\n",
              "      <td>39.6552</td>\n",
              "      <td>623.418</td>\n",
              "    </tr>\n",
              "    <tr>\n",
              "      <th>5</th>\n",
              "      <td>42.0690</td>\n",
              "      <td>625.992</td>\n",
              "    </tr>\n",
              "    <tr>\n",
              "      <th>6</th>\n",
              "      <td>44.4828</td>\n",
              "      <td>655.248</td>\n",
              "    </tr>\n",
              "    <tr>\n",
              "      <th>7</th>\n",
              "      <td>46.8966</td>\n",
              "      <td>701.377</td>\n",
              "    </tr>\n",
              "    <tr>\n",
              "      <th>8</th>\n",
              "      <td>49.3103</td>\n",
              "      <td>748.918</td>\n",
              "    </tr>\n",
              "    <tr>\n",
              "      <th>9</th>\n",
              "      <td>51.7241</td>\n",
              "      <td>757.881</td>\n",
              "    </tr>\n",
              "    <tr>\n",
              "      <th>10</th>\n",
              "      <td>54.1379</td>\n",
              "      <td>831.004</td>\n",
              "    </tr>\n",
              "    <tr>\n",
              "      <th>11</th>\n",
              "      <td>56.5517</td>\n",
              "      <td>855.409</td>\n",
              "    </tr>\n",
              "    <tr>\n",
              "      <th>12</th>\n",
              "      <td>58.9655</td>\n",
              "      <td>866.707</td>\n",
              "    </tr>\n",
              "    <tr>\n",
              "      <th>13</th>\n",
              "      <td>61.3793</td>\n",
              "      <td>902.545</td>\n",
              "    </tr>\n",
              "    <tr>\n",
              "      <th>14</th>\n",
              "      <td>63.7931</td>\n",
              "      <td>952.261</td>\n",
              "    </tr>\n",
              "    <tr>\n",
              "      <th>15</th>\n",
              "      <td>66.2069</td>\n",
              "      <td>995.531</td>\n",
              "    </tr>\n",
              "    <tr>\n",
              "      <th>16</th>\n",
              "      <td>68.6207</td>\n",
              "      <td>1069.780</td>\n",
              "    </tr>\n",
              "    <tr>\n",
              "      <th>17</th>\n",
              "      <td>71.0345</td>\n",
              "      <td>1074.420</td>\n",
              "    </tr>\n",
              "    <tr>\n",
              "      <th>18</th>\n",
              "      <td>73.4483</td>\n",
              "      <td>1103.880</td>\n",
              "    </tr>\n",
              "    <tr>\n",
              "      <th>19</th>\n",
              "      <td>75.8621</td>\n",
              "      <td>1138.690</td>\n",
              "    </tr>\n",
              "    <tr>\n",
              "      <th>20</th>\n",
              "      <td>78.2759</td>\n",
              "      <td>1153.130</td>\n",
              "    </tr>\n",
              "    <tr>\n",
              "      <th>21</th>\n",
              "      <td>80.6897</td>\n",
              "      <td>1240.270</td>\n",
              "    </tr>\n",
              "    <tr>\n",
              "      <th>22</th>\n",
              "      <td>83.1034</td>\n",
              "      <td>1251.900</td>\n",
              "    </tr>\n",
              "    <tr>\n",
              "      <th>23</th>\n",
              "      <td>85.5172</td>\n",
              "      <td>1287.970</td>\n",
              "    </tr>\n",
              "    <tr>\n",
              "      <th>24</th>\n",
              "      <td>87.9310</td>\n",
              "      <td>1320.470</td>\n",
              "    </tr>\n",
              "    <tr>\n",
              "      <th>25</th>\n",
              "      <td>90.3448</td>\n",
              "      <td>1374.920</td>\n",
              "    </tr>\n",
              "    <tr>\n",
              "      <th>26</th>\n",
              "      <td>92.7586</td>\n",
              "      <td>1410.160</td>\n",
              "    </tr>\n",
              "    <tr>\n",
              "      <th>27</th>\n",
              "      <td>95.1724</td>\n",
              "      <td>1469.690</td>\n",
              "    </tr>\n",
              "    <tr>\n",
              "      <th>28</th>\n",
              "      <td>97.5862</td>\n",
              "      <td>1478.540</td>\n",
              "    </tr>\n",
              "    <tr>\n",
              "      <th>29</th>\n",
              "      <td>100.0000</td>\n",
              "      <td>1515.280</td>\n",
              "    </tr>\n",
              "  </tbody>\n",
              "</table>\n",
              "</div>"
            ],
            "text/plain": [
              "    Diện tích       Giá\n",
              "0     30.0000   448.524\n",
              "1     32.4138   509.248\n",
              "2     34.8276   535.104\n",
              "3     37.2414   551.432\n",
              "4     39.6552   623.418\n",
              "5     42.0690   625.992\n",
              "6     44.4828   655.248\n",
              "7     46.8966   701.377\n",
              "8     49.3103   748.918\n",
              "9     51.7241   757.881\n",
              "10    54.1379   831.004\n",
              "11    56.5517   855.409\n",
              "12    58.9655   866.707\n",
              "13    61.3793   902.545\n",
              "14    63.7931   952.261\n",
              "15    66.2069   995.531\n",
              "16    68.6207  1069.780\n",
              "17    71.0345  1074.420\n",
              "18    73.4483  1103.880\n",
              "19    75.8621  1138.690\n",
              "20    78.2759  1153.130\n",
              "21    80.6897  1240.270\n",
              "22    83.1034  1251.900\n",
              "23    85.5172  1287.970\n",
              "24    87.9310  1320.470\n",
              "25    90.3448  1374.920\n",
              "26    92.7586  1410.160\n",
              "27    95.1724  1469.690\n",
              "28    97.5862  1478.540\n",
              "29   100.0000  1515.280"
            ]
          },
          "metadata": {},
          "execution_count": 98
        }
      ]
    },
    {
      "cell_type": "markdown",
      "metadata": {
        "id": "hspwBND6uKqq"
      },
      "source": [
        "# Put data in numpy arrays and show them"
      ]
    },
    {
      "cell_type": "code",
      "metadata": {
        "colab": {
          "base_uri": "https://localhost:8080/",
          "height": 279
        },
        "id": "KpucJh4TipVm",
        "outputId": "b1ae5030-0fab-4bb5-9ba1-701dc47486b0"
      },
      "source": [
        "x = np.array(data[\"Diện tích\"])\n",
        "Y = np.array(data[\"Giá\"])\n",
        "plt.plot(x, Y, 'ro')\n",
        "plt.xlabel('Area')\n",
        "plt.ylabel('Price')\n",
        "plt.show()\n",
        "# This data is way too pretty ay?"
      ],
      "execution_count": null,
      "outputs": [
        {
          "output_type": "display_data",
          "data": {
            "image/png": "[encoded data removed]",
            "text/plain": [
              "<Figure size 432x288 with 1 Axes>"
            ]
          },
          "metadata": {
            "needs_background": "light"
          }
        }
      ]
    },
    {
      "cell_type": "markdown",
      "metadata": {
        "id": "dzUK8UatuRXT"
      },
      "source": [
        "Adding one column to x"
      ]
    },
    {
      "cell_type": "code",
      "metadata": {
        "colab": {
          "base_uri": "https://localhost:8080/"
        },
        "id": "m2283_nVheiN",
        "outputId": "6cb84db4-08a7-4aff-9ffe-926aca1b05b8"
      },
      "source": [
        "one = np.ones((X.shape[0], 1))\n",
        "X = np.column_stack((one, x))\n",
        "X"
      ],
      "execution_count": null,
      "outputs": [
        {
          "output_type": "execute_result",
          "data": {
            "text/plain": [
              "array([[  1.    ,  30.    ],\n",
              "       [  1.    ,  32.4138],\n",
              "       [  1.    ,  34.8276],\n",
              "       [  1.    ,  37.2414],\n",
              "       [  1.    ,  39.6552],\n",
              "       [  1.    ,  42.069 ],\n",
              "       [  1.    ,  44.4828],\n",
              "       [  1.    ,  46.8966],\n",
              "       [  1.    ,  49.3103],\n",
              "       [  1.    ,  51.7241],\n",
              "       [  1.    ,  54.1379],\n",
              "       [  1.    ,  56.5517],\n",
              "       [  1.    ,  58.9655],\n",
              "       [  1.    ,  61.3793],\n",
              "       [  1.    ,  63.7931],\n",
              "       [  1.    ,  66.2069],\n",
              "       [  1.    ,  68.6207],\n",
              "       [  1.    ,  71.0345],\n",
              "       [  1.    ,  73.4483],\n",
              "       [  1.    ,  75.8621],\n",
              "       [  1.    ,  78.2759],\n",
              "       [  1.    ,  80.6897],\n",
              "       [  1.    ,  83.1034],\n",
              "       [  1.    ,  85.5172],\n",
              "       [  1.    ,  87.931 ],\n",
              "       [  1.    ,  90.3448],\n",
              "       [  1.    ,  92.7586],\n",
              "       [  1.    ,  95.1724],\n",
              "       [  1.    ,  97.5862],\n",
              "       [  1.    , 100.    ]])"
            ]
          },
          "metadata": {},
          "execution_count": 100
        }
      ]
    },
    {
      "cell_type": "markdown",
      "metadata": {
        "id": "I_6jdJbGuUx-"
      },
      "source": [
        "Calculate w"
      ]
    },
    {
      "cell_type": "code",
      "metadata": {
        "colab": {
          "base_uri": "https://localhost:8080/"
        },
        "id": "E6YPcJ8_nb4b",
        "outputId": "aed17c8e-d01b-4900-a05a-13086b88182c"
      },
      "source": [
        "w = np.dot(np.linalg.inv(np.dot(X.T,X)),np.dot(X.T,Y))\n",
        "w"
      ],
      "execution_count": null,
      "outputs": [
        {
          "output_type": "execute_result",
          "data": {
            "text/plain": [
              "array([-7.06426865, 15.2110908 ])"
            ]
          },
          "metadata": {},
          "execution_count": 101
        }
      ]
    },
    {
      "cell_type": "markdown",
      "metadata": {
        "id": "t_tvnM6QuXHI"
      },
      "source": [
        "Printing w"
      ]
    },
    {
      "cell_type": "code",
      "metadata": {
        "colab": {
          "base_uri": "https://localhost:8080/"
        },
        "id": "mS-u8MnnpXvO",
        "outputId": "3f637973-cace-489c-9e41-f05bba8f44c6"
      },
      "source": [
        "w1 = w[1]\n",
        "w0 = w[0] \n",
        "print(w1,w0)"
      ],
      "execution_count": null,
      "outputs": [
        {
          "output_type": "stream",
          "name": "stdout",
          "text": [
            "15.211090799670403 -7.064268645243495\n"
          ]
        }
      ]
    },
    {
      "cell_type": "markdown",
      "metadata": {
        "id": "QmXxw62fuaAj"
      },
      "source": [
        ""
      ]
    },
    {
      "cell_type": "code",
      "metadata": {
        "id": "o-pb0dLjq1ZT"
      },
      "source": [
        "space = np.linspace(30, 105, 75)\n",
        "prediction = w0 + w1*space\n"
      ],
      "execution_count": null,
      "outputs": []
    },
    {
      "cell_type": "markdown",
      "metadata": {
        "id": "y8AwR_z0udSx"
      },
      "source": [
        "Plot data and prediction"
      ]
    },
    {
      "cell_type": "code",
      "metadata": {
        "colab": {
          "base_uri": "https://localhost:8080/",
          "height": 279
        },
        "id": "TCxfECbcrZQu",
        "outputId": "5574e81d-5fb5-44dd-bc59-c467f2675eca"
      },
      "source": [
        "plt.plot(x, Y, 'bo')\n",
        "plt.plot(space, prediction, 'r')\n",
        "plt.xlabel('Area')\n",
        "plt.ylabel('Price')\n",
        "plt.show()"
      ],
      "execution_count": null,
      "outputs": [
        {
          "output_type": "display_data",
          "data": {
            "image/png": "[encoded data removed]",
            "text/plain": [
              "<Figure size 432x288 with 1 Axes>"
            ]
          },
          "metadata": {
            "needs_background": "light"
          }
        }
      ]
    },
    {
      "cell_type": "markdown",
      "metadata": {
        "id": "2MJkc5ahtGtj"
      },
      "source": [
        "# Prediction for house with area of 50, 100, 150 accordingly\n"
      ]
    },
    {
      "cell_type": "code",
      "metadata": {
        "colab": {
          "base_uri": "https://localhost:8080/"
        },
        "id": "2BljpKt1sCPV",
        "outputId": "f0e9f3b5-e3f8-4ee7-8814-f44de4144a21"
      },
      "source": [
        "print(\"Prediction for house with price of 50:\", 50*w1 + w0)\n",
        "print(\"Prediction for house with price of 100:\", 100*w1 + w0)\n",
        "print(\"Prediction for house with price of 150:\", 150*w1 + w0)"
      ],
      "execution_count": null,
      "outputs": [
        {
          "output_type": "stream",
          "name": "stdout",
          "text": [
            "prediction for house with price of 50: 753.4902713382767\n",
            "prediction for house with price of 100: 1514.0448113217967\n",
            "prediction for house with price of 150: 2274.599351305317\n"
          ]
        }
      ]
    },
    {
      "cell_type": "markdown",
      "metadata": {
        "id": "Tf5JOqMjtGTg"
      },
      "source": [
        ""
      ]
    }
  ]
}