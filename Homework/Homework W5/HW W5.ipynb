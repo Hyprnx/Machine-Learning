{
 "cells": [
  {
   "cell_type": "code",
   "execution_count": 51,
   "metadata": {
    "collapsed": true
   },
   "outputs": [],
   "source": [
    "import numpy as np\n",
    "import pandas as pd\n",
    "import matplotlib.pyplot as plt\n",
    "%matplotlib inline"
   ]
  },
  {
   "cell_type": "code",
   "execution_count": 52,
   "outputs": [
    {
     "data": {
      "text/plain": "<Figure size 432x288 with 1 Axes>",
      "image/png": "[encoded data removed]"
     },
     "metadata": {
      "needs_background": "light"
     },
     "output_type": "display_data"
    }
   ],
   "source": [
    "def create_toy_data(func, sample_size, std):\n",
    "    x = np.linspace(0, 1, sample_size)\n",
    "    t = func(x) + np.random.normal(scale=std, size=x.shape)\n",
    "    return x, t\n",
    "\n",
    "def func(x):\n",
    "    return np.sin(2 * np.pi * x)\n",
    "\n",
    "def mse(truth, predict):\n",
    "    truth = np.array(truth)\n",
    "    predict = np.array(predict)\n",
    "    return np.mean((truth - predict) ** 2)\n",
    "\n",
    "x_train, y_train = create_toy_data(func, 10, 0.25)\n",
    "x_test = np.linspace(0, 1, 100)\n",
    "y_test = func(x_test)\n",
    "\n",
    "x_val, y_val = create_toy_data(func, 10, 0.25)\n",
    "\n",
    "plt.scatter(x_train, y_train, facecolor=\"b\", edgecolor=\"b\", s=50, label=\"training data\")\n",
    "plt.scatter(x_val, y_val, facecolor=\"r\", edgecolor=\"r\", s=50, label=\"val data\")\n",
    "\n",
    "plt.plot(x_test, y_test, c=\"g\", label=\"$\\sin(2\\pi x)$\")\n",
    "plt.legend()\n",
    "plt.show()"
   ],
   "metadata": {
    "collapsed": false,
    "pycharm": {
     "name": "#%%\n"
    }
   }
  },
  {
   "cell_type": "code",
   "execution_count": 53,
   "outputs": [
    {
     "data": {
      "text/plain": "    x_train   y_train\n0  0.000000  0.144533\n1  0.111111  0.565889\n2  0.222222  1.121286\n3  0.333333  1.136993\n4  0.444444  0.310937",
      "text/html": "<div>\n<style scoped>\n    .dataframe tbody tr th:only-of-type {\n        vertical-align: middle;\n    }\n\n    .dataframe tbody tr th {\n        vertical-align: top;\n    }\n\n    .dataframe thead th {\n        text-align: right;\n    }\n</style>\n<table border=\"1\" class=\"dataframe\">\n  <thead>\n    <tr style=\"text-align: right;\">\n      <th></th>\n      <th>x_train</th>\n      <th>y_train</th>\n    </tr>\n  </thead>\n  <tbody>\n    <tr>\n      <th>0</th>\n      <td>0.000000</td>\n      <td>0.144533</td>\n    </tr>\n    <tr>\n      <th>1</th>\n      <td>0.111111</td>\n      <td>0.565889</td>\n    </tr>\n    <tr>\n      <th>2</th>\n      <td>0.222222</td>\n      <td>1.121286</td>\n    </tr>\n    <tr>\n      <th>3</th>\n      <td>0.333333</td>\n      <td>1.136993</td>\n    </tr>\n    <tr>\n      <th>4</th>\n      <td>0.444444</td>\n      <td>0.310937</td>\n    </tr>\n  </tbody>\n</table>\n</div>"
     },
     "execution_count": 53,
     "metadata": {},
     "output_type": "execute_result"
    }
   ],
   "source": [
    "dict1 = {'x_train':x_train, 'y_train' :y_train}\n",
    "train_df = pd.DataFrame(dict1)\n",
    "train_df.head()"
   ],
   "metadata": {
    "collapsed": false,
    "pycharm": {
     "name": "#%%\n"
    }
   }
  },
  {
   "cell_type": "code",
   "execution_count": 54,
   "outputs": [
    {
     "data": {
      "text/plain": "      x_val     y_val\n0  0.000000  0.138709\n1  0.111111  0.915336\n2  0.222222  0.779216\n3  0.333333  0.874477\n4  0.444444  0.260079",
      "text/html": "<div>\n<style scoped>\n    .dataframe tbody tr th:only-of-type {\n        vertical-align: middle;\n    }\n\n    .dataframe tbody tr th {\n        vertical-align: top;\n    }\n\n    .dataframe thead th {\n        text-align: right;\n    }\n</style>\n<table border=\"1\" class=\"dataframe\">\n  <thead>\n    <tr style=\"text-align: right;\">\n      <th></th>\n      <th>x_val</th>\n      <th>y_val</th>\n    </tr>\n  </thead>\n  <tbody>\n    <tr>\n      <th>0</th>\n      <td>0.000000</td>\n      <td>0.138709</td>\n    </tr>\n    <tr>\n      <th>1</th>\n      <td>0.111111</td>\n      <td>0.915336</td>\n    </tr>\n    <tr>\n      <th>2</th>\n      <td>0.222222</td>\n      <td>0.779216</td>\n    </tr>\n    <tr>\n      <th>3</th>\n      <td>0.333333</td>\n      <td>0.874477</td>\n    </tr>\n    <tr>\n      <th>4</th>\n      <td>0.444444</td>\n      <td>0.260079</td>\n    </tr>\n  </tbody>\n</table>\n</div>"
     },
     "execution_count": 54,
     "metadata": {},
     "output_type": "execute_result"
    }
   ],
   "source": [
    "dict2 = {'x_val':x_val, 'y_val' :y_val}\n",
    "val_df = pd.DataFrame(dict2)\n",
    "val_df.head()"
   ],
   "metadata": {
    "collapsed": false,
    "pycharm": {
     "name": "#%%\n"
    }
   }
  },
  {
   "cell_type": "code",
   "execution_count": 55,
   "outputs": [
    {
     "data": {
      "text/plain": "     x_test    y_test\n0  0.000000  0.000000\n1  0.010101  0.063424\n2  0.020202  0.126592\n3  0.030303  0.189251\n4  0.040404  0.251148",
      "text/html": "<div>\n<style scoped>\n    .dataframe tbody tr th:only-of-type {\n        vertical-align: middle;\n    }\n\n    .dataframe tbody tr th {\n        vertical-align: top;\n    }\n\n    .dataframe thead th {\n        text-align: right;\n    }\n</style>\n<table border=\"1\" class=\"dataframe\">\n  <thead>\n    <tr style=\"text-align: right;\">\n      <th></th>\n      <th>x_test</th>\n      <th>y_test</th>\n    </tr>\n  </thead>\n  <tbody>\n    <tr>\n      <th>0</th>\n      <td>0.000000</td>\n      <td>0.000000</td>\n    </tr>\n    <tr>\n      <th>1</th>\n      <td>0.010101</td>\n      <td>0.063424</td>\n    </tr>\n    <tr>\n      <th>2</th>\n      <td>0.020202</td>\n      <td>0.126592</td>\n    </tr>\n    <tr>\n      <th>3</th>\n      <td>0.030303</td>\n      <td>0.189251</td>\n    </tr>\n    <tr>\n      <th>4</th>\n      <td>0.040404</td>\n      <td>0.251148</td>\n    </tr>\n  </tbody>\n</table>\n</div>"
     },
     "execution_count": 55,
     "metadata": {},
     "output_type": "execute_result"
    }
   ],
   "source": [
    "dict3 = {'x_test':x_test, 'y_test' :y_test}\n",
    "test_df = pd.DataFrame(dict3)\n",
    "test_df.head()"
   ],
   "metadata": {
    "collapsed": false,
    "pycharm": {
     "name": "#%%\n"
    }
   }
  },
  {
   "cell_type": "code",
   "execution_count": 56,
   "outputs": [],
   "source": [
    "class LinearRegression:\n",
    "    def __init__(self, df, target):\n",
    "        self.df = df\n",
    "        self.target = target\n",
    "\n",
    "    def find_coefficient(self):\n",
    "        t = np.array(self.df[self.target]).reshape(self.df.shape[0],1)\n",
    "        feature = np.array(self.df.loc[:, self.df.columns != self.target]).reshape(self.df.shape[0], self.df.shape[1]-1)\n",
    "        x = np.concatenate((np.ones((self.df.shape[0], 1)), feature), axis= 1)\n",
    "        w = np.array(np.linalg.inv(x.T.dot(x)).dot(x.T).dot(t)).reshape(feature.shape[1]+1, 1)\n",
    "        return w\n",
    "\n",
    "    def add_predict_column(self):\n",
    "        newdf = self.df.copy()\n",
    "        feature = np.array(self.df.loc[:, self.df.columns != self.target]).reshape(self.df.shape[0], self.df.shape[1]-1)\n",
    "        w = self.find_coefficient()\n",
    "        newdf['predict'] = feature.dot(w[1:,]) + w[0]\n",
    "        return newdf\n",
    "\n",
    "    def mse(self):\n",
    "        newdf = self.add_predict_column()\n",
    "        return np.mean((newdf['predict'] - newdf[self.target]) ** 2)\n",
    "\n",
    "    def predict_value(self, list1):\n",
    "        array = np.array(list1).reshape(1,len(list1))\n",
    "        w = self.find_coefficient()\n",
    "        return array.dot(w[1:,]) + w[0]\n",
    "\n",
    "    def print_model(self):\n",
    "        feature = (self.df.loc[:, self.df.columns != self.target])\n",
    "        w = self.find_coefficient()\n",
    "        print('y =', end=' ')\n",
    "        for i in range(1, len(w)):\n",
    "            print(round(float(w[i][0]),2), feature.columns[i-1], '+', end=' ')\n",
    "        print(round(float(w[0][0]),2))\n",
    "        "
   ],
   "metadata": {
    "collapsed": false,
    "pycharm": {
     "name": "#%%\n"
    }
   }
  },
  {
   "cell_type": "code",
   "execution_count": 57,
   "outputs": [],
   "source": [
    "class RidgeRegression:\n",
    "    def __init__(self, df, target):\n",
    "        self.df = df\n",
    "        self.target = target"
   ],
   "metadata": {
    "collapsed": false,
    "pycharm": {
     "name": "#%%\n"
    }
   }
  },
  {
   "cell_type": "code",
   "execution_count": 58,
   "outputs": [
    {
     "name": "stdout",
     "output_type": "stream",
     "text": [
      "[[ 0.77899538]\n",
      " [-1.65596156]]\n",
      "y = -1.66 x_train + 0.78\n"
     ]
    },
    {
     "data": {
      "text/plain": "0.3941172322804847"
     },
     "execution_count": 58,
     "metadata": {},
     "output_type": "execute_result"
    }
   ],
   "source": [
    "model1 = LinearRegression(train_df, 'y_train')\n",
    "print(model1.find_coefficient())\n",
    "model1.print_model()\n",
    "model1.mse()"
   ],
   "metadata": {
    "collapsed": false,
    "pycharm": {
     "name": "#%%\n"
    }
   }
  },
  {
   "cell_type": "code",
   "execution_count": 59,
   "outputs": [
    {
     "name": "stdout",
     "output_type": "stream",
     "text": [
      "MSE Train: 0.3941172322804847\n",
      "MSE Val: 0.305159001967352\n"
     ]
    },
    {
     "data": {
      "text/plain": "<Figure size 432x288 with 1 Axes>",
      "image/png": "[encoded data removed]"
     },
     "metadata": {
      "needs_background": "light"
     },
     "output_type": "display_data"
    }
   ],
   "source": [
    "model1_predict = model1.add_predict_column()\n",
    "plt.scatter(x_train,y_train, facecolor=\"b\", edgecolor=\"b\", s=50, label=\"val data\")\n",
    "plt.scatter(x_val, y_val, facecolor=\"g\", edgecolor=\"g\", s=50, label=\"val data\")\n",
    "plt.plot(x_train, model1_predict.predict,'g')\n",
    "print('MSE Train:',mse(y_train, model1_predict.predict))\n",
    "print('MSE Val:',mse(y_val, model1_predict.predict))"
   ],
   "metadata": {
    "collapsed": false,
    "pycharm": {
     "name": "#%%\n"
    }
   }
  },
  {
   "cell_type": "code",
   "execution_count": 60,
   "outputs": [],
   "source": [
    "train_df3 = train_df.copy()\n",
    "train_df3['x^2'] = x_train ** 2\n",
    "train_df3['x^3'] = x_train ** 3"
   ],
   "metadata": {
    "collapsed": false,
    "pycharm": {
     "name": "#%%\n"
    }
   }
  },
  {
   "cell_type": "code",
   "execution_count": 61,
   "outputs": [
    {
     "name": "stdout",
     "output_type": "stream",
     "text": [
      "[[-9.53948543e-03]\n",
      " [ 1.20249036e+01]\n",
      " [-3.68504392e+01]\n",
      " [ 2.48903912e+01]]\n",
      "y = 12.02 x_train + -36.85 x^2 + 24.89 x^3 + -0.01\n"
     ]
    }
   ],
   "source": [
    "model3 = LinearRegression(train_df3, 'y_train')\n",
    "print(model3.find_coefficient())\n",
    "model3.print_model()"
   ],
   "metadata": {
    "collapsed": false,
    "pycharm": {
     "name": "#%%\n"
    }
   }
  },
  {
   "cell_type": "code",
   "execution_count": 62,
   "outputs": [
    {
     "name": "stdout",
     "output_type": "stream",
     "text": [
      "MSE Train: 0.03214377658406916\n",
      "MSE Val: 0.03415599375414808\n"
     ]
    },
    {
     "data": {
      "text/plain": "<Figure size 432x288 with 1 Axes>",
      "image/png": "[encoded data removed]"
     },
     "metadata": {
      "needs_background": "light"
     },
     "output_type": "display_data"
    }
   ],
   "source": [
    "w3 = model3.find_coefficient()\n",
    "x3 = np.linspace(0,1,100)\n",
    "y3 = w3[1]*x3 + w3[2]*x3**2 + w3[3]*x3**3 + w3[0]\n",
    "model3_predict = model3.add_predict_column()\n",
    "plt.scatter(x_train,y_train, facecolor=\"b\", edgecolor=\"b\", s=50, label=\"val data\")\n",
    "plt.scatter(x_val, y_val, facecolor=\"y\", edgecolor=\"y\", s=50, label=\"val data\")\n",
    "plt.plot(x3, y3,'black')\n",
    "\n",
    "print('MSE Train:',mse(y_train, model3_predict.predict))\n",
    "print('MSE Val:',mse(y_val, model3_predict.predict))"
   ],
   "metadata": {
    "collapsed": false,
    "pycharm": {
     "name": "#%%\n"
    }
   }
  },
  {
   "cell_type": "code",
   "execution_count": 63,
   "outputs": [],
   "source": [
    "train_df9 = train_df.copy()\n",
    "train_df9['x^2'] = x_train ** 2\n",
    "train_df9['x^3'] = x_train ** 3\n",
    "train_df9['x^4'] = x_train ** 4\n",
    "train_df9['x^5'] = x_train ** 5\n",
    "train_df9['x^6'] = x_train ** 6\n",
    "train_df9['x^7'] = x_train ** 7\n",
    "train_df9['x^8'] = x_train ** 8\n",
    "train_df9['x^9'] = x_train ** 9"
   ],
   "metadata": {
    "collapsed": false,
    "pycharm": {
     "name": "#%%\n"
    }
   }
  },
  {
   "cell_type": "code",
   "execution_count": 64,
   "outputs": [
    {
     "name": "stdout",
     "output_type": "stream",
     "text": [
      "[[ 1.44635114e-01]\n",
      " [ 3.09677314e+00]\n",
      " [-2.21731284e-01]\n",
      " [ 5.15957603e+01]\n",
      " [ 4.50532902e+02]\n",
      " [-4.89489643e+03]\n",
      " [ 1.44075790e+04]\n",
      " [-1.93525991e+04]\n",
      " [ 1.24634592e+04]\n",
      " [-3.12864063e+03]]\n",
      "y = 3.1 x_train + -0.22 x^2 + 51.6 x^3 + 450.53 x^4 + -4894.9 x^5 + 14407.58 x^6 + -19352.6 x^7 + 12463.46 x^8 + -3128.64 x^9 + 0.14\n"
     ]
    }
   ],
   "source": [
    "model9 = LinearRegression(train_df9,'y_train')\n",
    "print(model9.find_coefficient())\n",
    "model9.print_model()"
   ],
   "metadata": {
    "collapsed": false,
    "pycharm": {
     "name": "#%%\n"
    }
   }
  },
  {
   "cell_type": "code",
   "execution_count": 65,
   "outputs": [
    {
     "name": "stdout",
     "output_type": "stream",
     "text": [
      "MSE Train: 1.051528606748748e-08\n",
      "MSE Val: 0.06394057692065194\n"
     ]
    },
    {
     "data": {
      "text/plain": "<Figure size 432x288 with 1 Axes>",
      "image/png": "[encoded data removed]"
     },
     "metadata": {
      "needs_background": "light"
     },
     "output_type": "display_data"
    }
   ],
   "source": [
    "w9= model9.find_coefficient()\n",
    "x9 = np.linspace(0,1,100)\n",
    "y9 = w9[1]*x9 + w9[2]*x9**2 + w9[3]*x9**3 + w9[4]*x9**4 + w9[5]*x9**5 + w9[6]*x9**6  + w9[7]*x9**7 + w9[8]*x9**8 + w9[9]*x9**9 + w9[0]\n",
    "model9_predict = model9.add_predict_column()\n",
    "plt.scatter(x_train,y_train, facecolor=\"b\", edgecolor=\"b\", s=50, label=\"val data\")\n",
    "plt.scatter(x_val, y_val, facecolor=\"r\", edgecolor=\"r\", s=50, label=\"val data\")\n",
    "plt.plot(x9, y9,'b')\n",
    "print('MSE Train:',mse(y_train, model9_predict.predict))\n",
    "print('MSE Val:',mse(y_val, model9_predict.predict))"
   ],
   "metadata": {
    "collapsed": false,
    "pycharm": {
     "name": "#%%\n"
    }
   }
  },
  {
   "cell_type": "code",
   "execution_count": 65,
   "outputs": [],
   "source": [],
   "metadata": {
    "collapsed": false,
    "pycharm": {
     "name": "#%%\n"
    }
   }
  }
 ],
 "metadata": {
  "kernelspec": {
   "display_name": "Python 3",
   "language": "python",
   "name": "python3"
  },
  "language_info": {
   "codemirror_mode": {
    "name": "ipython",
    "version": 2
   },
   "file_extension": ".py",
   "mimetype": "text/x-python",
   "name": "python",
   "nbconvert_exporter": "python",
   "pygments_lexer": "ipython2",
   "version": "2.7.6"
  }
 },
 "nbformat": 4,
 "nbformat_minor": 0
}